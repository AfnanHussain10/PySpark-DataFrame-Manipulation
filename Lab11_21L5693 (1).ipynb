{
  "nbformat": 4,
  "nbformat_minor": 0,
  "metadata": {
    "colab": {
      "provenance": []
    },
    "kernelspec": {
      "name": "python3",
      "display_name": "Python 3"
    },
    "language_info": {
      "name": "python"
    }
  },
  "cells": [
    {
      "cell_type": "code",
      "execution_count": null,
      "metadata": {
        "colab": {
          "base_uri": "https://localhost:8080/"
        },
        "id": "T8kNPLaCqMOT",
        "outputId": "7ebd0bea-5734-4d68-cddf-2aa68735e02c"
      },
      "outputs": [
        {
          "output_type": "stream",
          "name": "stdout",
          "text": [
            "Looking in indexes: https://pypi.org/simple, https://us-python.pkg.dev/colab-wheels/public/simple/\n",
            "Collecting pyspark\n",
            "  Downloading pyspark-3.4.0.tar.gz (310.8 MB)\n",
            "\u001b[2K     \u001b[90m━━━━━━━━━━━━━━━━━━━━━━━━━━━━━━━━━━━━━━━\u001b[0m \u001b[32m310.8/310.8 MB\u001b[0m \u001b[31m3.9 MB/s\u001b[0m eta \u001b[36m0:00:00\u001b[0m\n",
            "\u001b[?25h  Preparing metadata (setup.py) ... \u001b[?25l\u001b[?25hdone\n",
            "Requirement already satisfied: py4j==0.10.9.7 in /usr/local/lib/python3.10/dist-packages (from pyspark) (0.10.9.7)\n",
            "Building wheels for collected packages: pyspark\n",
            "  Building wheel for pyspark (setup.py) ... \u001b[?25l\u001b[?25hdone\n",
            "  Created wheel for pyspark: filename=pyspark-3.4.0-py2.py3-none-any.whl size=311317130 sha256=ff07ad6d069453dd980b6fa98345b81602858765323855f484d78dfe0f65b489\n",
            "  Stored in directory: /root/.cache/pip/wheels/7b/1b/4b/3363a1d04368e7ff0d408e57ff57966fcdf00583774e761327\n",
            "Successfully built pyspark\n",
            "Installing collected packages: pyspark\n",
            "Successfully installed pyspark-3.4.0\n"
          ]
        }
      ],
      "source": [
        "!pip install pyspark"
      ]
    },
    {
      "cell_type": "code",
      "source": [
        "from pyspark import SparkContext, SparkConf\n",
        "from pyspark.sql import SparkSession\n",
        "\n",
        "spark = SparkSession.builder.getOrCreate()"
      ],
      "metadata": {
        "id": "yKcjfh6Jsp45"
      },
      "execution_count": null,
      "outputs": []
    },
    {
      "cell_type": "code",
      "source": [
        "appName='lab11'\n",
        "master=\"local[*]\"\n",
        "conf = SparkConf().setAppName(appName).setMaster(master)\n"
      ],
      "metadata": {
        "id": "PDHn4tGzs4nk"
      },
      "execution_count": null,
      "outputs": []
    },
    {
      "cell_type": "code",
      "source": [
        "import pandas as pd\n",
        "import pyspark.sql as ps\n",
        "from pyspark.sql.functions import length, col, collect_list, substring"
      ],
      "metadata": {
        "id": "yBfgS27Vs_bm"
      },
      "execution_count": null,
      "outputs": []
    },
    {
      "cell_type": "code",
      "source": [
        "df=spark.read.csv('Movies.csv', header=True)"
      ],
      "metadata": {
        "id": "ZlqdYjKTvAhL"
      },
      "execution_count": null,
      "outputs": []
    },
    {
      "cell_type": "code",
      "source": [
        "df.show()"
      ],
      "metadata": {
        "colab": {
          "base_uri": "https://localhost:8080/"
        },
        "id": "E1VvH1RvwHif",
        "outputId": "19791de4-7d64-4319-cf0f-48ffe8bdf041"
      },
      "execution_count": null,
      "outputs": [
        {
          "output_type": "stream",
          "name": "stdout",
          "text": [
            "+----+------+--------------------+-------+--------------------+-----------------+--------------------+----------+------+-------------------+\n",
            "|Year|Length|               Title|  Genre|               Actor|          Actress|            Director|Popularity|Awards|              Image|\n",
            "+----+------+--------------------+-------+--------------------+-----------------+--------------------+----------+------+-------------------+\n",
            "|1990|   111|Tie Me Up! Tie Me...| Comedy|     BanderasAntonio|    AbrilVictoria|      AlmodóvarPedro|        68|    No|   NicholasCage.png|\n",
            "|1991|   113|          High Heels| Comedy|          BoséMiguel|    AbrilVictoria|      AlmodóvarPedro|        68|    No|   NicholasCage.png|\n",
            "|1983|   104|        Dead ZoneThe| Horror|   WalkenChristopher|      AdamsBrooke|     CronenbergDavid|        79|    No|   NicholasCage.png|\n",
            "|1979|   122|                Cuba| Action|         ConnerySean|      AdamsBrooke|       LesterRichard|         6|    No|    seanConnery.png|\n",
            "|1978|    94|      Days of Heaven|  Drama|         GereRichard|      AdamsBrooke|      MalickTerrence|        14|    No|   NicholasCage.png|\n",
            "|1983|   140|           Octopussy| Action|          MooreRoger|        AdamsMaud|            GlenJohn|        68|    No|   NicholasCage.png|\n",
            "|1984|   101|        Target Eagle| Action|        ConnorsChuck|        AdamsMaud|LomaJosé Antonio ...|        14|    No|   NicholasCage.png|\n",
            "|1989|    99|American Angels: ...|  Drama|     BergenRobert D.|       AdamsTrudy|    SebastianBeverly|        28|    No|   NicholasCage.png|\n",
            "|1985|   104|              Subway|  Drama|  LambertChristopher|   AdjaniIsabelle|           BessonLuc|         6|    No|   NicholasCage.png|\n",
            "|1990|   149|     Camille Claudel|  Drama|     DepardieuGérard|   AdjaniIsabelle|        NuyttenBruno|        32|    No|   NicholasCage.png|\n",
            "|1982|   188| Fanny and Alexander|  Drama|       AhlstedtBörje|AdolphsonKristina|       BergmanIngmar|        81|   Yes|        Bergman.png|\n",
            "|1982|   117|Tragedy of a Ridi...|  Drama|         TognazziUgo|       AimeeAnouk|  BertolucciBernardo|        17|    No|   NicholasCage.png|\n",
            "|1966|   103|     A Man & a Woman|  Drama|TrintignantJean-L...|       AimeeAnouk|       LelouchClaude|        46|   Yes|   NicholasCage.png|\n",
            "|1986|   112|A Man & a Woman: ...|  Drama|TrintignantJean-L...|       AimeeAnouk|       LelouchClaude|        49|    No|   NicholasCage.png|\n",
            "|1966|   103|Un Hombre y una M...|  Drama|TrintignantJean-L...|       AimeeAnouk|       LelouchClaude|         6|   Yes|   NicholasCage.png|\n",
            "|1985|   112|   Official StoryThe|  Drama|       AlterioHector|    AleandroNorma|          PuenzoLuiz|        39|   Yes|   NicholasCage.png|\n",
            "|1976|   150|Lindbergh Kidnapp...|  Drama|      HopkinsAnthony|  AlexanderDenise|           KulikBuzz|        51|    No| AnthonyHopkins.png|\n",
            "|1929|    84|           Blackmail|Mystery|         LongdenJohn|       AlgoodSara|     HitchcockAlfred|         2|    No|alfredHitchcock.png|\n",
            "|1963|   109|      Donovan's Reef| Comedy|           WayneJohn|   AllenElizabeth|            FordJohn|        62|    No|      johnWayne.png|\n",
            "|1988|   110|Tucker: The Man &...|  Drama|         BridgesJeff|        AllenJoan| CoppolaFrancis Ford|        68|    No|   NicholasCage.png|\n",
            "+----+------+--------------------+-------+--------------------+-----------------+--------------------+----------+------+-------------------+\n",
            "only showing top 20 rows\n",
            "\n"
          ]
        }
      ]
    },
    {
      "cell_type": "code",
      "source": [
        "#Q1\n",
        "df.filter(df.Awards=='Yes').filter(df.Genre=='Action').select(\"Title\",\"Year\",\"Director\").show()"
      ],
      "metadata": {
        "colab": {
          "base_uri": "https://localhost:8080/"
        },
        "id": "H83P81kOwNEB",
        "outputId": "2b5b81ac-e072-4e24-9f2e-de1c7a63dffe"
      },
      "execution_count": null,
      "outputs": [
        {
          "output_type": "stream",
          "name": "stdout",
          "text": [
            "+-----+----+--------+\n",
            "|Title|Year|Director|\n",
            "+-----+----+--------+\n",
            "+-----+----+--------+\n",
            "\n"
          ]
        }
      ]
    },
    {
      "cell_type": "code",
      "source": [
        "#Q2\n",
        "df.filter(df.Awards=='Yes').select(\"Actor\",\"Title\",\"Director\").show()"
      ],
      "metadata": {
        "colab": {
          "base_uri": "https://localhost:8080/"
        },
        "id": "wOgUeUG4zpCK",
        "outputId": "7ebadf78-8512-4f32-a0b5-b43a3a17a4d1"
      },
      "execution_count": null,
      "outputs": [
        {
          "output_type": "stream",
          "name": "stdout",
          "text": [
            "+--------------------+--------------------+-------------------+\n",
            "|               Actor|               Title|           Director|\n",
            "+--------------------+--------------------+-------------------+\n",
            "|       AhlstedtBörje| Fanny and Alexander|      BergmanIngmar|\n",
            "|TrintignantJean-L...|     A Man & a Woman|      LelouchClaude|\n",
            "|TrintignantJean-L...|Un Hombre y una M...|      LelouchClaude|\n",
            "|       AlterioHector|   Official StoryThe|         PuenzoLuiz|\n",
            "|      SjöströmVictor|   Wild Strawberries|      BergmanIngmar|\n",
            "|   BjörnstrandGunnar|Through a Glass D...|      BergmanIngmar|\n",
            "|     JosephsonErland|    Cries & Whispers|      BergmanIngmar|\n",
            "|  PlummerChristopher|   Sound of MusicThe|         WiseRobert|\n",
            "| LaFontJean-Philippe|     Babette's Feast|        AxelGabriel|\n",
            "|        BalsamMartin|Murder on the Ori...|        LumetSidney|\n",
            "|      HopkinsAnthony|     Elephant ManThe|         LynchDavid|\n",
            "|          WallaceDee|E. T. The Extra-T...|    SpielbergSteven|\n",
            "|           CaanJames|              Misery|          ReinerRob|\n",
            "|         KingsleyBen|              Gandhi|AttenboroughRichard|\n",
            "|         BjörkHalvar|       Autumn Sonata|      BergmanIngmar|\n",
            "|        BoyerCharles|            Gaslight|        CukorGeorge|\n",
            "|           BeattyNed|A Woman Called Golda|         GibsonAlan|\n",
            "|        TamiroffAkim|           Anastasia|      LitvakAnatole|\n",
            "|       MatthauWalter|       Cactus Flower|           SaksGene|\n",
            "|    AbrahamF. Murray|             Amadeus|        FormanMilos|\n",
            "+--------------------+--------------------+-------------------+\n",
            "only showing top 20 rows\n",
            "\n"
          ]
        }
      ]
    },
    {
      "cell_type": "code",
      "source": [
        "#Q3\n",
        "df.filter(df.Awards=='No').sort(df.Popularity.desc()).select(\"Title\").limit(10).show()"
      ],
      "metadata": {
        "colab": {
          "base_uri": "https://localhost:8080/"
        },
        "id": "fEw7O3YU34Qz",
        "outputId": "f10822de-c9db-4e30-c45d-ec836e3ccca5"
      },
      "execution_count": null,
      "outputs": [
        {
          "output_type": "stream",
          "name": "stdout",
          "text": [
            "+--------------------+\n",
            "|               Title|\n",
            "+--------------------+\n",
            "|        Tango & Cash|\n",
            "|              Plenty|\n",
            "|Masque of the Red...|\n",
            "|           Lionheart|\n",
            "|        Judge Priest|\n",
            "|           Dead-Bang|\n",
            "|       Basil The Rat|\n",
            "|               Glitz|\n",
            "|            Morituri|\n",
            "|Naked Gun: From t...|\n",
            "+--------------------+\n",
            "\n"
          ]
        }
      ]
    },
    {
      "cell_type": "code",
      "source": [
        "#Q4\n",
        "df.filter(df.Year<=1980).sort(df.Popularity.asc()).select(\"Title\").limit(10).show()"
      ],
      "metadata": {
        "colab": {
          "base_uri": "https://localhost:8080/"
        },
        "id": "YnEGy8EC4lXq",
        "outputId": "654a4ba6-f917-4e10-f4f5-731545209a0a"
      },
      "execution_count": null,
      "outputs": [
        {
          "output_type": "stream",
          "name": "stdout",
          "text": [
            "+------------------+\n",
            "|             Title|\n",
            "+------------------+\n",
            "|   White Lightning|\n",
            "|      Desert Rider|\n",
            "|      Drop KickThe|\n",
            "| Bank on the Stars|\n",
            "|Shout at the Devil|\n",
            "|      It's My Turn|\n",
            "|           Shalako|\n",
            "|     Anna Christie|\n",
            "|           Airport|\n",
            "| Tales of Tomorrow|\n",
            "+------------------+\n",
            "\n"
          ]
        }
      ]
    },
    {
      "cell_type": "code",
      "source": [
        "#Q5\n",
        "df.groupBy(df.Genre).agg(ps.functions.avg(df.Length).alias('Average Length of Movies')).show()"
      ],
      "metadata": {
        "colab": {
          "base_uri": "https://localhost:8080/"
        },
        "id": "Vq9a-j5z5zFX",
        "outputId": "75ab4576-396e-4c04-8a25-3a4173953c1c"
      },
      "execution_count": null,
      "outputs": [
        {
          "output_type": "stream",
          "name": "stdout",
          "text": [
            "+---------------+------------------------+\n",
            "|          Genre|Average Length of Movies|\n",
            "+---------------+------------------------+\n",
            "|          Crime|                    66.0|\n",
            "|        Romance|                   127.0|\n",
            "|      Adventure|                   119.0|\n",
            "|           null|                   120.5|\n",
            "|          Drama|      113.30455259026688|\n",
            "|            War|               116.90625|\n",
            "|        Fantasy|                   102.0|\n",
            "|        Mystery|      103.00990099009901|\n",
            "|          Music|      100.48780487804878|\n",
            "|Science Fiction|      106.47368421052632|\n",
            "|         Horror|       93.92727272727272|\n",
            "|          Short|                    40.0|\n",
            "|        Western|        93.0091743119266|\n",
            "|         Comedy|       96.50540540540541|\n",
            "|         Action|                   104.5|\n",
            "|       Westerns|                   124.8|\n",
            "+---------------+------------------------+\n",
            "\n"
          ]
        }
      ]
    },
    {
      "cell_type": "code",
      "source": [
        "from pyspark.sql.functions import count,when"
      ],
      "metadata": {
        "id": "90RVTAFCu906"
      },
      "execution_count": null,
      "outputs": []
    },
    {
      "cell_type": "code",
      "source": [
        "#Q6\n",
        "df.filter(col(\"Genre\") == \"Comedy\") \\\n",
        "  .groupBy(\"Actor\", \"Actress\") \\\n",
        "  .agg(count(\"*\").alias(\"count\")) \\\n",
        "  .filter(col(\"count\") > 3) \\\n",
        "  .filter(col(\"Actress\")!='null')\\\n",
        "  .show()"
      ],
      "metadata": {
        "colab": {
          "base_uri": "https://localhost:8080/"
        },
        "id": "i4-wHp5TrB2I",
        "outputId": "0911db6f-be3d-488b-d459-6d1d36bc57d3"
      },
      "execution_count": null,
      "outputs": [
        {
          "output_type": "stream",
          "name": "stdout",
          "text": [
            "+------------+----------------+-----+\n",
            "|       Actor|         Actress|count|\n",
            "+------------+----------------+-----+\n",
            "|TracySpencer|HepburnKatharine|    6|\n",
            "|  AllenWoody|     KeatonDiane|    5|\n",
            "+------------+----------------+-----+\n",
            "\n"
          ]
        }
      ]
    },
    {
      "cell_type": "code",
      "source": [
        "#Q7\n",
        "df.where((col('Genre') == 'Comedy') & (col('Genre') == 'Drama')) \\\n",
        "  .select(col('Actor')) \\\n",
        "  .show()"
      ],
      "metadata": {
        "colab": {
          "base_uri": "https://localhost:8080/"
        },
        "id": "mcFvb7yE33iz",
        "outputId": "fd092f84-d67a-402c-865a-875e1807b9ea"
      },
      "execution_count": null,
      "outputs": [
        {
          "output_type": "stream",
          "name": "stdout",
          "text": [
            "+-----+\n",
            "|Actor|\n",
            "+-----+\n",
            "+-----+\n",
            "\n"
          ]
        }
      ]
    },
    {
      "cell_type": "code",
      "source": [
        "#Q8\n",
        "df.where((col('Genre') == 'Comedy') | (col('Genre') == 'Drama')) \\\n",
        "  .select(col('Actor')) \\\n",
        "  .show()"
      ],
      "metadata": {
        "colab": {
          "base_uri": "https://localhost:8080/"
        },
        "id": "aTYjFh-CGiw_",
        "outputId": "fd217a11-62e3-4eaf-85b7-dec6195ab2ee"
      },
      "execution_count": null,
      "outputs": [
        {
          "output_type": "stream",
          "name": "stdout",
          "text": [
            "+--------------------+\n",
            "|               Actor|\n",
            "+--------------------+\n",
            "|     BanderasAntonio|\n",
            "|          BoséMiguel|\n",
            "|         GereRichard|\n",
            "|     BergenRobert D.|\n",
            "|  LambertChristopher|\n",
            "|     DepardieuGérard|\n",
            "|       AhlstedtBörje|\n",
            "|         TognazziUgo|\n",
            "|TrintignantJean-L...|\n",
            "|TrintignantJean-L...|\n",
            "|TrintignantJean-L...|\n",
            "|       AlterioHector|\n",
            "|      HopkinsAnthony|\n",
            "|           WayneJohn|\n",
            "|         BridgesJeff|\n",
            "|          MurrayBill|\n",
            "|            PennSean|\n",
            "|         CageNicolas|\n",
            "|       AndersonKevin|\n",
            "|          NewmanPaul|\n",
            "+--------------------+\n",
            "only showing top 20 rows\n",
            "\n"
          ]
        }
      ]
    },
    {
      "cell_type": "code",
      "source": [
        "#Q9\n",
        "df.select(df.Actor) \\\n",
        "  .where(df.Genre!='Comedy').show()"
      ],
      "metadata": {
        "colab": {
          "base_uri": "https://localhost:8080/"
        },
        "id": "ba3YAZlAHPk2",
        "outputId": "3fe4d561-6eaa-46bc-f10e-ec9b85ce3bda"
      },
      "execution_count": null,
      "outputs": [
        {
          "output_type": "stream",
          "name": "stdout",
          "text": [
            "+--------------------+\n",
            "|               Actor|\n",
            "+--------------------+\n",
            "|   WalkenChristopher|\n",
            "|         ConnerySean|\n",
            "|         GereRichard|\n",
            "|          MooreRoger|\n",
            "|        ConnorsChuck|\n",
            "|     BergenRobert D.|\n",
            "|  LambertChristopher|\n",
            "|     DepardieuGérard|\n",
            "|       AhlstedtBörje|\n",
            "|         TognazziUgo|\n",
            "|TrintignantJean-L...|\n",
            "|TrintignantJean-L...|\n",
            "|TrintignantJean-L...|\n",
            "|       AlterioHector|\n",
            "|      HopkinsAnthony|\n",
            "|         LongdenJohn|\n",
            "|         BridgesJeff|\n",
            "|        FordHarrison|\n",
            "|SchwarzeneggerArnold|\n",
            "|         GloverDanny|\n",
            "+--------------------+\n",
            "only showing top 20 rows\n",
            "\n"
          ]
        }
      ]
    },
    {
      "cell_type": "code",
      "source": [
        "#Q10\n",
        "from pyspark.sql.functions import min,max,avg\n",
        "df.groupBy(\"Actor\") \\\n",
        "  .agg(min(\"Popularity\").alias(\"min\"), \\\n",
        "  max(\"Popularity\").alias(\"max\"), \\\n",
        "  avg(\"Popularity\").alias(\"avg\")) \\\n",
        "  .filter(df.Actor!='null') \\\n",
        "  .show()"
      ],
      "metadata": {
        "colab": {
          "base_uri": "https://localhost:8080/"
        },
        "id": "XX5AO7DOHkgf",
        "outputId": "a23c2300-e6aa-49a2-8f1b-64627a211d0e"
      },
      "execution_count": null,
      "outputs": [
        {
          "output_type": "stream",
          "name": "stdout",
          "text": [
            "+------------------+---+---+-----------------+\n",
            "|             Actor|min|max|              avg|\n",
            "+------------------+---+---+-----------------+\n",
            "|        AbelAlfred| 49| 49|             49.0|\n",
            "|  AbrahamF. Murray|  6|  6|              6.0|\n",
            "|    AdolphsonEdvin| 26| 72|             49.0|\n",
            "|       AherneBrian| 57| 57|             57.0|\n",
            "|     AhlstedtBörje| 81| 81|             81.0|\n",
            "|       AielloDanny| 20|  5|             12.5|\n",
            "|         AkanTarik| 53| 53|             53.0|\n",
            "|    AlbaicínRafael| 55| 55|             55.0|\n",
            "|      AlbertEdward| 82| 82|             82.0|\n",
            "|          AldaAlan| 12| 53|             32.5|\n",
            "|         AllenBill| 75| 75|             75.0|\n",
            "|        AllenWoody| 12| 84|51.27272727272727|\n",
            "|     AlterioHector| 39| 39|             39.0|\n",
            "|         AmecheDon| 45| 45|             45.0|\n",
            "|     AndersonKevin| 53| 53|             53.0|\n",
            "|   AnderssonWiktor| 66| 66|             66.0|\n",
            "|AngladeJean-Hughes| 71| 71|             71.0|\n",
            "|       AnneseFrank| 45| 45|             45.0|\n",
            "|        ApfelOscar| 66| 66|             66.0|\n",
            "|     ArestrupNiels| 74| 74|             74.0|\n",
            "+------------------+---+---+-----------------+\n",
            "only showing top 20 rows\n",
            "\n"
          ]
        }
      ]
    },
    {
      "cell_type": "code",
      "source": [
        "#Q11\n",
        "from pyspark.sql.functions import floor\n",
        "df.where(df.Year>=1960) \\\n",
        "  .withColumn(\"decade\", floor(df.Year/10)*10) \\\n",
        "  .groupBy(\"decade\") \\\n",
        "  .agg(count(\"*\").alias(\"count\")) \\\n",
        "  .sort(\"decade\") \\\n",
        "  .show()"
      ],
      "metadata": {
        "colab": {
          "base_uri": "https://localhost:8080/"
        },
        "id": "KbYlUT7FKpWj",
        "outputId": "ac529a6d-5b0e-4a73-bd57-95655e9bdb0c"
      },
      "execution_count": null,
      "outputs": [
        {
          "output_type": "stream",
          "name": "stdout",
          "text": [
            "+------+-----+\n",
            "|decade|count|\n",
            "+------+-----+\n",
            "|  1960|  154|\n",
            "|  1970|  244|\n",
            "|  1980|  607|\n",
            "|  1990|  345|\n",
            "+------+-----+\n",
            "\n"
          ]
        }
      ]
    },
    {
      "cell_type": "code",
      "source": [
        "#Q12\n",
        "df.groupBy(\"Year\")\\\n",
        "  .agg(count(\"*\").alias('count'))\\\n",
        "  .show()"
      ],
      "metadata": {
        "colab": {
          "base_uri": "https://localhost:8080/"
        },
        "id": "o5HsuK2qOeVZ",
        "outputId": "e41757a7-c1ba-4baf-eb28-bbb7ce50d0fc"
      },
      "execution_count": null,
      "outputs": [
        {
          "output_type": "stream",
          "name": "stdout",
          "text": [
            "+----+-----+\n",
            "|Year|count|\n",
            "+----+-----+\n",
            "|1953|   16|\n",
            "|1957|   16|\n",
            "|1987|  102|\n",
            "|1956|   15|\n",
            "|1936|    6|\n",
            "|1958|   12|\n",
            "|1943|    8|\n",
            "|1972|   24|\n",
            "|1931|    9|\n",
            "|1988|   96|\n",
            "|1926|    4|\n",
            "|1938|    8|\n",
            "|1932|    8|\n",
            "|1977|   29|\n",
            "|1971|   23|\n",
            "|1984|   38|\n",
            "|1982|   37|\n",
            "|1941|    7|\n",
            "|1965|   12|\n",
            "|1962|   15|\n",
            "+----+-----+\n",
            "only showing top 20 rows\n",
            "\n"
          ]
        }
      ]
    },
    {
      "cell_type": "code",
      "source": [
        "#Q13\n",
        "df.filter(df.Length>100)\\\n",
        "  .groupBy(\"Year\",\"Genre\")\\\n",
        "  .agg(count(\"*\").alias('count'))\\\n",
        "  .show()"
      ],
      "metadata": {
        "colab": {
          "base_uri": "https://localhost:8080/"
        },
        "id": "6RBdRQk1O3F8",
        "outputId": "d6715bb8-be34-4d28-bff5-aec02d5a0c3b"
      },
      "execution_count": null,
      "outputs": [
        {
          "output_type": "stream",
          "name": "stdout",
          "text": [
            "+----+---------------+-----+\n",
            "|Year|          Genre|count|\n",
            "+----+---------------+-----+\n",
            "|1984|         Comedy|    4|\n",
            "|1967|          Drama|    3|\n",
            "|1958|          Drama|    3|\n",
            "|1968|          Music|    1|\n",
            "|1990|        Mystery|    4|\n",
            "|1992|      Adventure|    1|\n",
            "|1933|          Drama|    1|\n",
            "|1982|Science Fiction|    1|\n",
            "|1978|Science Fiction|    1|\n",
            "|1951|            War|    1|\n",
            "|1964|       Westerns|    1|\n",
            "|1988|         Action|    3|\n",
            "|1975|         Action|    4|\n",
            "|1992|          Drama|   18|\n",
            "|1969|        Western|    5|\n",
            "|1951|        Mystery|    1|\n",
            "|1962|        Mystery|    1|\n",
            "|1950|        Mystery|    1|\n",
            "|1980|        Mystery|    1|\n",
            "|1990|        Western|    1|\n",
            "+----+---------------+-----+\n",
            "only showing top 20 rows\n",
            "\n"
          ]
        }
      ]
    },
    {
      "cell_type": "code",
      "source": [
        "#Q14\n",
        "df.where(df.Year<1990)\\\n",
        "  .sort(df.Title)\\\n",
        "  .show()"
      ],
      "metadata": {
        "colab": {
          "base_uri": "https://localhost:8080/"
        },
        "id": "zGtru_vCPwtY",
        "outputId": "2006114a-ac7b-4608-dcca-9af4032d70aa"
      },
      "execution_count": null,
      "outputs": [
        {
          "output_type": "stream",
          "name": "stdout",
          "text": [
            "+----+------+--------------------+---------------+--------------------+-----------------+-------------------+----------+------+-------------------+\n",
            "|Year|Length|               Title|          Genre|               Actor|          Actress|           Director|Popularity|Awards|              Image|\n",
            "+----+------+--------------------+---------------+--------------------+-----------------+-------------------+----------+------+-------------------+\n",
            "|1968|   139|2001: A Space Ody...|Science Fiction|          DulleaKeir|   TyzackMargaret|     KubrickStanley|        83|    No|   NicholasCage.png|\n",
            "|1982|    92|             48 Hrs.|         Action|           NolteNick|   O'TooleAnnette|         HillWalter|        67|    No|   NicholasCage.png|\n",
            "|1963|   138|               8 1/2|          Drama| MastroianniMarcello| CardinaleClaudia|    FelliniFederico|        80|   Yes|   NicholasCage.png|\n",
            "|1966|    95|A Big Hand for th...|         Comedy|          FondaHenry|   WoodwardJoanne|        CookFielder|        12|    No|   NicholasCage.png|\n",
            "|1962|   105|  A Child Is Waiting|          Drama|       LancasterBurt|      GarlandJudy|     CassavetesJohn|        60|    No|  burtLancaster.png|\n",
            "|1985|   118|A Chorus LineThe ...|          Music|      DouglasMichael|    LandersAudrey|AttenboroughRichard|        71|    No|   NicholasCage.png|\n",
            "|1971|   138|  A Clockwork Orange|Science Fiction|     McDowellMalcolm|             null|     KubrickStanley|        83|   Yes|   NicholasCage.png|\n",
            "|1967|   100|A Coeur Joie(Head...|         Action|     TerzieffLaurent|   BardotBrigitte|   BourguignonSerge|        54|    No| brigitteBardot.png|\n",
            "|1988|   122|   A Cry in the Dark|          Drama|            NeillSam|      StreepMeryl|       SchepisiFred|        67|    No|    merylStreep.png|\n",
            "|1989|    97|  A Dry White Season|          Drama|    SutherlandDonald|    SarandonSusan|        PalcyEuzhan|        71|    No|   NicholasCage.png|\n",
            "|1966|   104|      A Fine Madness|         Comedy|         ConnerySean|   WoodwardJoanne|      KershnerIrvin|         6|    No|    seanConnery.png|\n",
            "|1988|   108| A Fish Called Wanda|         Comedy|          CleeseJohn|  CurtisJamie Lee|    CrichtonCharles|         7|   Yes|   NicholasCage.png|\n",
            "|1964|   102|A Fistful of Dollars|       Westerns|       EastwoodClint|VolonteGian Maria|        LeoneSergio|        61|    No|  clintEastwood.png|\n",
            "|1943|  null|     A Guy Named Joe|          Drama|        TracySpencer|       DunneIrene|      FlemingVictor|        42|    No|   spencerTracy.png|\n",
            "|1954|    96|    A Lesson in Love|         Comedy|   BjörnstrandGunnar|      DahlbeckEva|      BergmanIngmar|        48|    No|        Bergman.png|\n",
            "|1977|   110|A Little Night Music|          Music|           CariouLen|  TaylorElizabeth|       PrinceHarold|        61|    No|elizabethTaylor.png|\n",
            "|1966|   103|     A Man & a Woman|          Drama|TrintignantJean-L...|       AimeeAnouk|      LelouchClaude|        46|   Yes|   NicholasCage.png|\n",
            "|1986|   112|A Man & a Woman: ...|          Drama|TrintignantJean-L...|       AimeeAnouk|      LelouchClaude|        49|    No|   NicholasCage.png|\n",
            "|1966|   120|A Man for All Sea...|          Drama|          ShawRobert|      HillerWendy|      ZinnemannFred|        20|   Yes|   NicholasCage.png|\n",
            "|1976|    97|    A Matter of Time|          Drama|        BoyerCharles|     MinnelliLiza|   MinnelliVincente|        70|    No|   NicholasCage.png|\n",
            "+----+------+--------------------+---------------+--------------------+-----------------+-------------------+----------+------+-------------------+\n",
            "only showing top 20 rows\n",
            "\n"
          ]
        }
      ]
    },
    {
      "cell_type": "code",
      "source": [
        "#Q15\n",
        "df.where(length(df.Title)>50).show()"
      ],
      "metadata": {
        "colab": {
          "base_uri": "https://localhost:8080/"
        },
        "id": "hkAM_TKcQkPP",
        "outputId": "df80221a-90b4-4831-93fc-8f530454cb6b"
      },
      "execution_count": null,
      "outputs": [
        {
          "output_type": "stream",
          "name": "stdout",
          "text": [
            "+----+------+--------------------+------+----------+--------------+--------+----------+------+----------------+\n",
            "|Year|Length|               Title| Genre|     Actor|       Actress|Director|Popularity|Awards|           Image|\n",
            "+----+------+--------------------+------+----------+--------------+--------+----------+------+----------------+\n",
            "|1979|    90|Fawlty TowersGour...|Comedy|CleeseJohn|ScalesPrunella|    null|        46|    No|NicholasCage.png|\n",
            "+----+------+--------------------+------+----------+--------------+--------+----------+------+----------------+\n",
            "\n"
          ]
        }
      ]
    }
  ]
}