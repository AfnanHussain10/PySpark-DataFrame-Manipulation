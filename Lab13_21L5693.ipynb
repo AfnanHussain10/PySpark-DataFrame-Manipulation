{
  "nbformat": 4,
  "nbformat_minor": 0,
  "metadata": {
    "colab": {
      "provenance": []
    },
    "kernelspec": {
      "name": "python3",
      "display_name": "Python 3"
    },
    "language_info": {
      "name": "python"
    }
  },
  "cells": [
    {
      "cell_type": "code",
      "execution_count": null,
      "metadata": {
        "colab": {
          "base_uri": "https://localhost:8080/"
        },
        "id": "T8kNPLaCqMOT",
        "outputId": "c077677e-dc71-46ca-8a51-90336098288c"
      },
      "outputs": [
        {
          "output_type": "stream",
          "name": "stdout",
          "text": [
            "Looking in indexes: https://pypi.org/simple, https://us-python.pkg.dev/colab-wheels/public/simple/\n",
            "Collecting pyspark\n",
            "  Downloading pyspark-3.4.0.tar.gz (310.8 MB)\n",
            "\u001b[2K     \u001b[90m━━━━━━━━━━━━━━━━━━━━━━━━━━━━━━━━━━━━━━━\u001b[0m \u001b[32m310.8/310.8 MB\u001b[0m \u001b[31m4.2 MB/s\u001b[0m eta \u001b[36m0:00:00\u001b[0m\n",
            "\u001b[?25h  Preparing metadata (setup.py) ... \u001b[?25l\u001b[?25hdone\n",
            "Requirement already satisfied: py4j==0.10.9.7 in /usr/local/lib/python3.10/dist-packages (from pyspark) (0.10.9.7)\n",
            "Building wheels for collected packages: pyspark\n",
            "  Building wheel for pyspark (setup.py) ... \u001b[?25l\u001b[?25hdone\n",
            "  Created wheel for pyspark: filename=pyspark-3.4.0-py2.py3-none-any.whl size=311317130 sha256=d88ac3deb86d6ab6ba7e13d37ea5b13a3dfb153d3d0c9aa5932beed5b9861bdf\n",
            "  Stored in directory: /root/.cache/pip/wheels/7b/1b/4b/3363a1d04368e7ff0d408e57ff57966fcdf00583774e761327\n",
            "Successfully built pyspark\n",
            "Installing collected packages: pyspark\n",
            "Successfully installed pyspark-3.4.0\n"
          ]
        }
      ],
      "source": [
        "!pip install pyspark"
      ]
    },
    {
      "cell_type": "code",
      "source": [
        "from pyspark import SparkContext, SparkConf\n",
        "from pyspark.sql import SparkSession\n",
        "\n",
        "\n",
        "# Create a SparkContext object\n",
        "sc = SparkContext(\"local\", \"Q5\")"
      ],
      "metadata": {
        "id": "yKcjfh6Jsp45"
      },
      "execution_count": null,
      "outputs": []
    },
    {
      "cell_type": "code",
      "source": [
        "\n",
        "import pyspark.sql as ps\n",
        "from pyspark.sql.functions import length, col, collect_list, substring,count,count_distinct"
      ],
      "metadata": {
        "id": "yBfgS27Vs_bm"
      },
      "execution_count": 72,
      "outputs": []
    },
    {
      "cell_type": "code",
      "source": [
        "spark = SparkSession.builder.getOrCreate()\n",
        "df=spark.read.csv('Movies.csv', header=True)"
      ],
      "metadata": {
        "id": "ZlqdYjKTvAhL"
      },
      "execution_count": null,
      "outputs": []
    },
    {
      "cell_type": "code",
      "source": [
        "df.show()"
      ],
      "metadata": {
        "colab": {
          "base_uri": "https://localhost:8080/"
        },
        "id": "E1VvH1RvwHif",
        "outputId": "f0d2528a-e4df-4fb6-fa65-fe64fabaedb9"
      },
      "execution_count": null,
      "outputs": [
        {
          "output_type": "stream",
          "name": "stdout",
          "text": [
            "+----+------+--------------------+-------+--------------------+-----------------+--------------------+----------+------+-------------------+\n",
            "|Year|Length|               Title|  Genre|               Actor|          Actress|            Director|Popularity|Awards|              Image|\n",
            "+----+------+--------------------+-------+--------------------+-----------------+--------------------+----------+------+-------------------+\n",
            "|1990|   111|Tie Me Up! Tie Me...| Comedy|     BanderasAntonio|    AbrilVictoria|      AlmodóvarPedro|        68|    No|   NicholasCage.png|\n",
            "|1991|   113|          High Heels| Comedy|          BoséMiguel|    AbrilVictoria|      AlmodóvarPedro|        68|    No|   NicholasCage.png|\n",
            "|1983|   104|        Dead ZoneThe| Horror|   WalkenChristopher|      AdamsBrooke|     CronenbergDavid|        79|    No|   NicholasCage.png|\n",
            "|1979|   122|                Cuba| Action|         ConnerySean|      AdamsBrooke|       LesterRichard|         6|    No|    seanConnery.png|\n",
            "|1978|    94|      Days of Heaven|  Drama|         GereRichard|      AdamsBrooke|      MalickTerrence|        14|    No|   NicholasCage.png|\n",
            "|1983|   140|           Octopussy| Action|          MooreRoger|        AdamsMaud|            GlenJohn|        68|    No|   NicholasCage.png|\n",
            "|1984|   101|        Target Eagle| Action|        ConnorsChuck|        AdamsMaud|LomaJosé Antonio ...|        14|    No|   NicholasCage.png|\n",
            "|1989|    99|American Angels: ...|  Drama|     BergenRobert D.|       AdamsTrudy|    SebastianBeverly|        28|    No|   NicholasCage.png|\n",
            "|1985|   104|              Subway|  Drama|  LambertChristopher|   AdjaniIsabelle|           BessonLuc|         6|    No|   NicholasCage.png|\n",
            "|1990|   149|     Camille Claudel|  Drama|     DepardieuGérard|   AdjaniIsabelle|        NuyttenBruno|        32|    No|   NicholasCage.png|\n",
            "|1982|   188| Fanny and Alexander|  Drama|       AhlstedtBörje|AdolphsonKristina|       BergmanIngmar|        81|   Yes|        Bergman.png|\n",
            "|1982|   117|Tragedy of a Ridi...|  Drama|         TognazziUgo|       AimeeAnouk|  BertolucciBernardo|        17|    No|   NicholasCage.png|\n",
            "|1966|   103|     A Man & a Woman|  Drama|TrintignantJean-L...|       AimeeAnouk|       LelouchClaude|        46|   Yes|   NicholasCage.png|\n",
            "|1986|   112|A Man & a Woman: ...|  Drama|TrintignantJean-L...|       AimeeAnouk|       LelouchClaude|        49|    No|   NicholasCage.png|\n",
            "|1966|   103|Un Hombre y una M...|  Drama|TrintignantJean-L...|       AimeeAnouk|       LelouchClaude|         6|   Yes|   NicholasCage.png|\n",
            "|1985|   112|   Official StoryThe|  Drama|       AlterioHector|    AleandroNorma|          PuenzoLuiz|        39|   Yes|   NicholasCage.png|\n",
            "|1976|   150|Lindbergh Kidnapp...|  Drama|      HopkinsAnthony|  AlexanderDenise|           KulikBuzz|        51|    No| AnthonyHopkins.png|\n",
            "|1929|    84|           Blackmail|Mystery|         LongdenJohn|       AlgoodSara|     HitchcockAlfred|         2|    No|alfredHitchcock.png|\n",
            "|1963|   109|      Donovan's Reef| Comedy|           WayneJohn|   AllenElizabeth|            FordJohn|        62|    No|      johnWayne.png|\n",
            "|1988|   110|Tucker: The Man &...|  Drama|         BridgesJeff|        AllenJoan| CoppolaFrancis Ford|        68|    No|   NicholasCage.png|\n",
            "+----+------+--------------------+-------+--------------------+-----------------+--------------------+----------+------+-------------------+\n",
            "only showing top 20 rows\n",
            "\n"
          ]
        }
      ]
    },
    {
      "cell_type": "code",
      "source": [
        "#Q5\n",
        "num=sc.accumulator(0)\n",
        "rdd1=sc.parallelize(range(1,11))\n",
        "def f(x):\n",
        "  global num\n",
        "  num+=x\n",
        "\n",
        "\n",
        "rdd1.foreach(f)\n",
        "final=num.value\n",
        "print(\"Final value:\",final)"
      ],
      "metadata": {
        "colab": {
          "base_uri": "https://localhost:8080/"
        },
        "id": "y18p33-IgRt1",
        "outputId": "adf94e21-81cd-4331-d7eb-ede91cd75ea4"
      },
      "execution_count": null,
      "outputs": [
        {
          "output_type": "stream",
          "name": "stdout",
          "text": [
            "Final value: 55\n"
          ]
        }
      ]
    },
    {
      "cell_type": "code",
      "source": [
        "#Q6\n",
        "df.filter(df.Awards=='Yes').filter(df.Genre=='Action').select(\"Title\",\"Year\",\"Director\").show()"
      ],
      "metadata": {
        "colab": {
          "base_uri": "https://localhost:8080/"
        },
        "id": "H83P81kOwNEB",
        "outputId": "2b5b81ac-e072-4e24-9f2e-de1c7a63dffe"
      },
      "execution_count": null,
      "outputs": [
        {
          "output_type": "stream",
          "name": "stdout",
          "text": [
            "+-----+----+--------+\n",
            "|Title|Year|Director|\n",
            "+-----+----+--------+\n",
            "+-----+----+--------+\n",
            "\n"
          ]
        }
      ]
    },
    {
      "cell_type": "code",
      "source": [
        "#Q7\n",
        "df.filter(df.Awards=='Yes').select(\"Actor\",\"Title\",\"Director\").show()"
      ],
      "metadata": {
        "colab": {
          "base_uri": "https://localhost:8080/"
        },
        "id": "wOgUeUG4zpCK",
        "outputId": "7ebadf78-8512-4f32-a0b5-b43a3a17a4d1"
      },
      "execution_count": null,
      "outputs": [
        {
          "output_type": "stream",
          "name": "stdout",
          "text": [
            "+--------------------+--------------------+-------------------+\n",
            "|               Actor|               Title|           Director|\n",
            "+--------------------+--------------------+-------------------+\n",
            "|       AhlstedtBörje| Fanny and Alexander|      BergmanIngmar|\n",
            "|TrintignantJean-L...|     A Man & a Woman|      LelouchClaude|\n",
            "|TrintignantJean-L...|Un Hombre y una M...|      LelouchClaude|\n",
            "|       AlterioHector|   Official StoryThe|         PuenzoLuiz|\n",
            "|      SjöströmVictor|   Wild Strawberries|      BergmanIngmar|\n",
            "|   BjörnstrandGunnar|Through a Glass D...|      BergmanIngmar|\n",
            "|     JosephsonErland|    Cries & Whispers|      BergmanIngmar|\n",
            "|  PlummerChristopher|   Sound of MusicThe|         WiseRobert|\n",
            "| LaFontJean-Philippe|     Babette's Feast|        AxelGabriel|\n",
            "|        BalsamMartin|Murder on the Ori...|        LumetSidney|\n",
            "|      HopkinsAnthony|     Elephant ManThe|         LynchDavid|\n",
            "|          WallaceDee|E. T. The Extra-T...|    SpielbergSteven|\n",
            "|           CaanJames|              Misery|          ReinerRob|\n",
            "|         KingsleyBen|              Gandhi|AttenboroughRichard|\n",
            "|         BjörkHalvar|       Autumn Sonata|      BergmanIngmar|\n",
            "|        BoyerCharles|            Gaslight|        CukorGeorge|\n",
            "|           BeattyNed|A Woman Called Golda|         GibsonAlan|\n",
            "|        TamiroffAkim|           Anastasia|      LitvakAnatole|\n",
            "|       MatthauWalter|       Cactus Flower|           SaksGene|\n",
            "|    AbrahamF. Murray|             Amadeus|        FormanMilos|\n",
            "+--------------------+--------------------+-------------------+\n",
            "only showing top 20 rows\n",
            "\n"
          ]
        }
      ]
    },
    {
      "cell_type": "code",
      "source": [
        "#Q8\n",
        "df.filter(df.Awards=='No').sort(df.Popularity.desc()).select(\"Title\").limit(10).show()"
      ],
      "metadata": {
        "colab": {
          "base_uri": "https://localhost:8080/"
        },
        "id": "fEw7O3YU34Qz",
        "outputId": "f10822de-c9db-4e30-c45d-ec836e3ccca5"
      },
      "execution_count": null,
      "outputs": [
        {
          "output_type": "stream",
          "name": "stdout",
          "text": [
            "+--------------------+\n",
            "|               Title|\n",
            "+--------------------+\n",
            "|        Tango & Cash|\n",
            "|              Plenty|\n",
            "|Masque of the Red...|\n",
            "|           Lionheart|\n",
            "|        Judge Priest|\n",
            "|           Dead-Bang|\n",
            "|       Basil The Rat|\n",
            "|               Glitz|\n",
            "|            Morituri|\n",
            "|Naked Gun: From t...|\n",
            "+--------------------+\n",
            "\n"
          ]
        }
      ]
    },
    {
      "cell_type": "code",
      "source": [
        "#Q9\n",
        "df.filter(df.Year<1980).sort(df.Popularity.asc()).select(\"Title\").limit(10).show()"
      ],
      "metadata": {
        "colab": {
          "base_uri": "https://localhost:8080/"
        },
        "id": "YnEGy8EC4lXq",
        "outputId": "a93961fb-f38a-4d35-eb42-d65ac44b074a"
      },
      "execution_count": null,
      "outputs": [
        {
          "output_type": "stream",
          "name": "stdout",
          "text": [
            "+------------------+\n",
            "|             Title|\n",
            "+------------------+\n",
            "|   White Lightning|\n",
            "|      Desert Rider|\n",
            "|      Drop KickThe|\n",
            "| Bank on the Stars|\n",
            "|Shout at the Devil|\n",
            "|           Shalako|\n",
            "|     Anna Christie|\n",
            "|           Airport|\n",
            "| Tales of Tomorrow|\n",
            "|          Stavisky|\n",
            "+------------------+\n",
            "\n"
          ]
        }
      ]
    },
    {
      "cell_type": "code",
      "source": [
        "#Q10\n",
        "df.filter(df.Year<1990).sort(df.Title).show()"
      ],
      "metadata": {
        "colab": {
          "base_uri": "https://localhost:8080/"
        },
        "id": "Vq9a-j5z5zFX",
        "outputId": "c92653e5-57fb-452d-fad4-1c441f4cac07"
      },
      "execution_count": null,
      "outputs": [
        {
          "output_type": "stream",
          "name": "stdout",
          "text": [
            "+----+------+--------------------+---------------+--------------------+-----------------+-------------------+----------+------+-------------------+\n",
            "|Year|Length|               Title|          Genre|               Actor|          Actress|           Director|Popularity|Awards|              Image|\n",
            "+----+------+--------------------+---------------+--------------------+-----------------+-------------------+----------+------+-------------------+\n",
            "|1968|   139|2001: A Space Ody...|Science Fiction|          DulleaKeir|   TyzackMargaret|     KubrickStanley|        83|    No|   NicholasCage.png|\n",
            "|1982|    92|             48 Hrs.|         Action|           NolteNick|   O'TooleAnnette|         HillWalter|        67|    No|   NicholasCage.png|\n",
            "|1963|   138|               8 1/2|          Drama| MastroianniMarcello| CardinaleClaudia|    FelliniFederico|        80|   Yes|   NicholasCage.png|\n",
            "|1966|    95|A Big Hand for th...|         Comedy|          FondaHenry|   WoodwardJoanne|        CookFielder|        12|    No|   NicholasCage.png|\n",
            "|1962|   105|  A Child Is Waiting|          Drama|       LancasterBurt|      GarlandJudy|     CassavetesJohn|        60|    No|  burtLancaster.png|\n",
            "|1985|   118|A Chorus LineThe ...|          Music|      DouglasMichael|    LandersAudrey|AttenboroughRichard|        71|    No|   NicholasCage.png|\n",
            "|1971|   138|  A Clockwork Orange|Science Fiction|     McDowellMalcolm|             null|     KubrickStanley|        83|   Yes|   NicholasCage.png|\n",
            "|1967|   100|A Coeur Joie(Head...|         Action|     TerzieffLaurent|   BardotBrigitte|   BourguignonSerge|        54|    No| brigitteBardot.png|\n",
            "|1988|   122|   A Cry in the Dark|          Drama|            NeillSam|      StreepMeryl|       SchepisiFred|        67|    No|    merylStreep.png|\n",
            "|1989|    97|  A Dry White Season|          Drama|    SutherlandDonald|    SarandonSusan|        PalcyEuzhan|        71|    No|   NicholasCage.png|\n",
            "|1966|   104|      A Fine Madness|         Comedy|         ConnerySean|   WoodwardJoanne|      KershnerIrvin|         6|    No|    seanConnery.png|\n",
            "|1988|   108| A Fish Called Wanda|         Comedy|          CleeseJohn|  CurtisJamie Lee|    CrichtonCharles|         7|   Yes|   NicholasCage.png|\n",
            "|1964|   102|A Fistful of Dollars|       Westerns|       EastwoodClint|VolonteGian Maria|        LeoneSergio|        61|    No|  clintEastwood.png|\n",
            "|1943|  null|     A Guy Named Joe|          Drama|        TracySpencer|       DunneIrene|      FlemingVictor|        42|    No|   spencerTracy.png|\n",
            "|1954|    96|    A Lesson in Love|         Comedy|   BjörnstrandGunnar|      DahlbeckEva|      BergmanIngmar|        48|    No|        Bergman.png|\n",
            "|1977|   110|A Little Night Music|          Music|           CariouLen|  TaylorElizabeth|       PrinceHarold|        61|    No|elizabethTaylor.png|\n",
            "|1966|   103|     A Man & a Woman|          Drama|TrintignantJean-L...|       AimeeAnouk|      LelouchClaude|        46|   Yes|   NicholasCage.png|\n",
            "|1986|   112|A Man & a Woman: ...|          Drama|TrintignantJean-L...|       AimeeAnouk|      LelouchClaude|        49|    No|   NicholasCage.png|\n",
            "|1966|   120|A Man for All Sea...|          Drama|          ShawRobert|      HillerWendy|      ZinnemannFred|        20|   Yes|   NicholasCage.png|\n",
            "|1976|    97|    A Matter of Time|          Drama|        BoyerCharles|     MinnelliLiza|   MinnelliVincente|        70|    No|   NicholasCage.png|\n",
            "+----+------+--------------------+---------------+--------------------+-----------------+-------------------+----------+------+-------------------+\n",
            "only showing top 20 rows\n",
            "\n"
          ]
        }
      ]
    },
    {
      "cell_type": "code",
      "source": [
        "#Q11\n",
        "df=spark.read.csv('wine.csv', header=True)\n",
        "from pyspark.ml.linalg import Vectors\n",
        "from pyspark.ml.stat import Correlation"
      ],
      "metadata": {
        "id": "yw4saGlwmB2T"
      },
      "execution_count": 75,
      "outputs": []
    },
    {
      "cell_type": "code",
      "source": [
        "def remove_outliers(df):\n",
        "\n",
        "   q1=df.quantile(0.25)\n",
        "\n",
        "   q3=df.quantile(0.75)\n",
        "   IQR=q3-q1\n",
        "   \n",
        "   ''' Removing the Outliers '''\n",
        "   df = df[~((df < (q1 - 1.5 * IQR)) |(df > (q3 + 1.5 * IQR)))]\n",
        "   return df"
      ],
      "metadata": {
        "id": "bliyO5dSmOdk"
      },
      "execution_count": 26,
      "outputs": []
    },
    {
      "cell_type": "code",
      "source": [
        "from pyspark import pandas as ps"
      ],
      "metadata": {
        "id": "TilpAiFpoXqb"
      },
      "execution_count": 80,
      "outputs": []
    },
    {
      "cell_type": "code",
      "source": [
        "df.show()"
      ],
      "metadata": {
        "colab": {
          "base_uri": "https://localhost:8080/"
        },
        "id": "H_UWP12fo6hP",
        "outputId": "f0459a90-9220-451d-f448-f0a459f9725f"
      },
      "execution_count": 76,
      "outputs": [
        {
          "output_type": "stream",
          "name": "stdout",
          "text": [
            "+-------+----------+----+------------+---------+-------------+----------+--------------------+---------------+---------------+----+-----+-------+\n",
            "|Alcohol|Malic_Acid| Ash|Ash_Alcanity|Magnesium|Total_Phenols|Flavanoids|Nonflavanoid_Phenols|Proanthocyanins|Color_Intensity| Hue|OD280|Proline|\n",
            "+-------+----------+----+------------+---------+-------------+----------+--------------------+---------------+---------------+----+-----+-------+\n",
            "|  14.23|      1.71|2.43|        15.6|      127|          2.8|      3.06|                0.28|           2.29|           5.64|1.04| 3.92|   1065|\n",
            "|   13.2|      1.78|2.14|        11.2|      100|         2.65|      2.76|                0.26|           1.28|           4.38|1.05|  3.4|   1050|\n",
            "|  13.16|      2.36|2.67|        18.6|      101|          2.8|      3.24|                 0.3|           2.81|           5.68|1.03| 3.17|   1185|\n",
            "|  14.37|      1.95| 2.5|        16.8|      113|         3.85|      3.49|                0.24|           2.18|            7.8|0.86| 3.45|   1480|\n",
            "|  13.24|      2.59|2.87|          21|      118|          2.8|      2.69|                0.39|           1.82|           4.32|1.04| 2.93|    735|\n",
            "|   14.2|      1.76|2.45|        15.2|      112|         3.27|      3.39|                0.34|           1.97|           6.75|1.05| 2.85|   1450|\n",
            "|  14.39|      1.87|2.45|        14.6|       96|          2.5|      2.52|                 0.3|           1.98|           5.25|1.02| 3.58|   1290|\n",
            "|  14.06|      2.15|2.61|        17.6|      121|          2.6|      2.51|                0.31|           1.25|           5.05|1.06| 3.58|   1295|\n",
            "|  14.83|      1.64|2.17|          14|       97|          2.8|      2.98|                0.29|           1.98|            5.2|1.08| 2.85|   1045|\n",
            "|  13.86|      1.35|2.27|          16|       98|         2.98|      3.15|                0.22|           1.85|           7.22|1.01| 3.55|   1045|\n",
            "|   14.1|      2.16| 2.3|          18|      105|         2.95|      3.32|                0.22|           2.38|           5.75|1.25| 3.17|   1510|\n",
            "|  14.12|      1.48|2.32|        16.8|       95|          2.2|      2.43|                0.26|           1.57|              5|1.17| 2.82|   1280|\n",
            "|  13.75|      1.73|2.41|          16|       89|          2.6|      2.76|                0.29|           1.81|            5.6|1.15|  2.9|   1320|\n",
            "|  14.75|      1.73|2.39|        11.4|       91|          3.1|      3.69|                0.43|           2.81|            5.4|1.25| 2.73|   1150|\n",
            "|  14.38|      1.87|2.38|          12|      102|          3.3|      3.64|                0.29|           2.96|            7.5| 1.2|    3|   1547|\n",
            "|  13.63|      1.81| 2.7|        17.2|      112|         2.85|      2.91|                 0.3|           1.46|            7.3|1.28| 2.88|   1310|\n",
            "|   14.3|      1.92|2.72|          20|      120|          2.8|      3.14|                0.33|           1.97|            6.2|1.07| 2.65|   1280|\n",
            "|  13.83|      1.57|2.62|          20|      115|         2.95|       3.4|                 0.4|           1.72|            6.6|1.13| 2.57|   1130|\n",
            "|  14.19|      1.59|2.48|        16.5|      108|          3.3|      3.93|                0.32|           1.86|            8.7|1.23| 2.82|   1680|\n",
            "|  13.64|       3.1|2.56|        15.2|      116|          2.7|      3.03|                0.17|           1.66|            5.1|0.96| 3.36|    845|\n",
            "+-------+----------+----+------------+---------+-------------+----------+--------------------+---------------+---------------+----+-----+-------+\n",
            "only showing top 20 rows\n",
            "\n"
          ]
        }
      ]
    },
    {
      "cell_type": "code",
      "source": [
        "# Convert the values in the Alcohol column to float type\n",
        "pdf = df.select(col(\"Alcohol\").cast(\"float\"))\n",
        "ps.DataFrame(pdf).plot(kind=\"scatter\")"
      ],
      "metadata": {
        "colab": {
          "base_uri": "https://localhost:8080/",
          "height": 542
        },
        "id": "D6MD16InqMjT",
        "outputId": "3a6a4b4a-fdca-4712-9080-8fb88ee92130"
      },
      "execution_count": 82,
      "outputs": [
        {
          "output_type": "display_data",
          "data": {
            "text/html": [
              "<html>\n",
              "<head><meta charset=\"utf-8\" /></head>\n",
              "<body>\n",
              "    <div>            <script src=\"https://cdnjs.cloudflare.com/ajax/libs/mathjax/2.7.5/MathJax.js?config=TeX-AMS-MML_SVG\"></script><script type=\"text/javascript\">if (window.MathJax && window.MathJax.Hub && window.MathJax.Hub.Config) {window.MathJax.Hub.Config({SVG: {font: \"STIX-Web\"}});}</script>                <script type=\"text/javascript\">window.PlotlyConfig = {MathJaxConfig: 'local'};</script>\n",
              "        <script src=\"https://cdn.plot.ly/plotly-2.18.2.min.js\"></script>                <div id=\"a8808e64-a30a-45d5-a268-28f0081c796c\" class=\"plotly-graph-div\" style=\"height:525px; width:100%;\"></div>            <script type=\"text/javascript\">                                    window.PLOTLYENV=window.PLOTLYENV || {};                                    if (document.getElementById(\"a8808e64-a30a-45d5-a268-28f0081c796c\")) {                    Plotly.newPlot(                        \"a8808e64-a30a-45d5-a268-28f0081c796c\",                        [{\"hovertemplate\":\"variable=Alcohol<br>index=%{x}<br>value=%{y}<extra></extra>\",\"legendgroup\":\"Alcohol\",\"marker\":{\"color\":\"#636efa\",\"symbol\":\"circle\"},\"mode\":\"markers\",\"name\":\"Alcohol\",\"orientation\":\"v\",\"showlegend\":true,\"x\":[0,1,2,3,4,5,6,7,8,9,10,11,12,13,14,15,16,17,18,19,20,21,22,23,24,25,26,27,28,29,30,31,32,33,34,35,36,37,38,39,40,41,42,43,44,45,46,47,48,49,50,51,52,53,54,55,56,57,58,59,60,61,62,63,64,65,66,67,68,69,70,71,72,73,74,75,76,77,78,79,80,81,82,83,84,85,86,87,88,89,90,91,92,93,94,95,96,97,98,99,100,101,102,103,104,105,106,107,108,109,110,111,112,113,114,115,116,117,118,119,120,121,122,123,124,125,126,127,128,129,130,131,132,133,134,135,136,137,138,139,140,141,142,143,144,145,146,147,148,149,150,151,152,153,154,155,156,157,158,159,160,161,162,163,164,165,166,167,168,169,170,171,172,173,174,175,176,177],\"xaxis\":\"x\",\"y\":[14.229999542236328,13.199999809265137,13.15999984741211,14.369999885559082,13.239999771118164,14.199999809265137,14.390000343322754,14.0600004196167,14.829999923706055,13.859999656677246,14.100000381469727,14.119999885559082,13.75,14.75,14.380000114440918,13.630000114440918,14.300000190734863,13.829999923706055,14.1899995803833,13.640000343322754,14.0600004196167,12.930000305175781,13.710000038146973,12.850000381469727,13.5,13.050000190734863,13.390000343322754,13.300000190734863,13.869999885559082,14.020000457763672,13.729999542236328,13.579999923706055,13.680000305175781,13.760000228881836,13.510000228881836,13.479999542236328,13.279999732971191,13.050000190734863,13.069999694824219,14.220000267028809,13.5600004196167,13.40999984741211,13.880000114440918,13.239999771118164,13.050000190734863,14.210000038146973,14.380000114440918,13.899999618530273,14.100000381469727,13.9399995803833,13.050000190734863,13.829999923706055,13.819999694824219,13.770000457763672,13.739999771118164,13.5600004196167,14.220000267028809,13.289999961853027,13.720000267028809,12.369999885559082,12.329999923706055,12.640000343322754,13.670000076293945,12.369999885559082,12.170000076293945,12.369999885559082,13.109999656677246,12.369999885559082,13.34000015258789,12.210000038146973,12.289999961853027,13.859999656677246,13.489999771118164,12.989999771118164,11.960000038146973,11.65999984741211,13.029999732971191,11.84000015258789,12.329999923706055,12.699999809265137,12.0,12.720000267028809,12.079999923706055,13.050000190734863,11.84000015258789,12.670000076293945,12.15999984741211,11.649999618530273,11.640000343322754,12.079999923706055,12.079999923706055,12.0,12.6899995803833,12.289999961853027,11.619999885559082,12.470000267028809,11.8100004196167,12.289999961853027,12.369999885559082,12.289999961853027,12.079999923706055,12.600000381469727,12.34000015258789,11.819999694824219,12.510000228881836,12.420000076293945,12.25,12.720000267028809,12.220000267028809,11.609999656677246,11.460000038146973,12.520000457763672,11.760000228881836,11.40999984741211,12.079999923706055,11.029999732971191,11.819999694824219,12.420000076293945,12.770000457763672,12.0,11.449999809265137,11.5600004196167,12.420000076293945,13.050000190734863,11.869999885559082,12.069999694824219,12.430000305175781,11.789999961853027,12.369999885559082,12.039999961853027,12.859999656677246,12.880000114440918,12.8100004196167,12.699999809265137,12.510000228881836,12.600000381469727,12.25,12.529999732971191,13.489999771118164,12.84000015258789,12.930000305175781,13.359999656677246,13.520000457763672,13.619999885559082,12.25,13.15999984741211,13.880000114440918,12.869999885559082,13.319999694824219,13.079999923706055,13.5,12.789999961853027,13.109999656677246,13.229999542236328,12.579999923706055,13.170000076293945,13.84000015258789,12.449999809265137,14.34000015258789,13.479999542236328,12.359999656677246,13.6899995803833,12.850000381469727,12.960000038146973,13.779999732971191,13.729999542236328,13.449999809265137,12.819999694824219,13.579999923706055,13.399999618530273,12.199999809265137,12.770000457763672,14.15999984741211,13.710000038146973,13.399999618530273,13.270000457763672,13.170000076293945,14.130000114440918],\"yaxis\":\"y\",\"type\":\"scatter\"}],                        {\"template\":{\"data\":{\"histogram2dcontour\":[{\"type\":\"histogram2dcontour\",\"colorbar\":{\"outlinewidth\":0,\"ticks\":\"\"},\"colorscale\":[[0.0,\"#0d0887\"],[0.1111111111111111,\"#46039f\"],[0.2222222222222222,\"#7201a8\"],[0.3333333333333333,\"#9c179e\"],[0.4444444444444444,\"#bd3786\"],[0.5555555555555556,\"#d8576b\"],[0.6666666666666666,\"#ed7953\"],[0.7777777777777778,\"#fb9f3a\"],[0.8888888888888888,\"#fdca26\"],[1.0,\"#f0f921\"]]}],\"choropleth\":[{\"type\":\"choropleth\",\"colorbar\":{\"outlinewidth\":0,\"ticks\":\"\"}}],\"histogram2d\":[{\"type\":\"histogram2d\",\"colorbar\":{\"outlinewidth\":0,\"ticks\":\"\"},\"colorscale\":[[0.0,\"#0d0887\"],[0.1111111111111111,\"#46039f\"],[0.2222222222222222,\"#7201a8\"],[0.3333333333333333,\"#9c179e\"],[0.4444444444444444,\"#bd3786\"],[0.5555555555555556,\"#d8576b\"],[0.6666666666666666,\"#ed7953\"],[0.7777777777777778,\"#fb9f3a\"],[0.8888888888888888,\"#fdca26\"],[1.0,\"#f0f921\"]]}],\"heatmap\":[{\"type\":\"heatmap\",\"colorbar\":{\"outlinewidth\":0,\"ticks\":\"\"},\"colorscale\":[[0.0,\"#0d0887\"],[0.1111111111111111,\"#46039f\"],[0.2222222222222222,\"#7201a8\"],[0.3333333333333333,\"#9c179e\"],[0.4444444444444444,\"#bd3786\"],[0.5555555555555556,\"#d8576b\"],[0.6666666666666666,\"#ed7953\"],[0.7777777777777778,\"#fb9f3a\"],[0.8888888888888888,\"#fdca26\"],[1.0,\"#f0f921\"]]}],\"heatmapgl\":[{\"type\":\"heatmapgl\",\"colorbar\":{\"outlinewidth\":0,\"ticks\":\"\"},\"colorscale\":[[0.0,\"#0d0887\"],[0.1111111111111111,\"#46039f\"],[0.2222222222222222,\"#7201a8\"],[0.3333333333333333,\"#9c179e\"],[0.4444444444444444,\"#bd3786\"],[0.5555555555555556,\"#d8576b\"],[0.6666666666666666,\"#ed7953\"],[0.7777777777777778,\"#fb9f3a\"],[0.8888888888888888,\"#fdca26\"],[1.0,\"#f0f921\"]]}],\"contourcarpet\":[{\"type\":\"contourcarpet\",\"colorbar\":{\"outlinewidth\":0,\"ticks\":\"\"}}],\"contour\":[{\"type\":\"contour\",\"colorbar\":{\"outlinewidth\":0,\"ticks\":\"\"},\"colorscale\":[[0.0,\"#0d0887\"],[0.1111111111111111,\"#46039f\"],[0.2222222222222222,\"#7201a8\"],[0.3333333333333333,\"#9c179e\"],[0.4444444444444444,\"#bd3786\"],[0.5555555555555556,\"#d8576b\"],[0.6666666666666666,\"#ed7953\"],[0.7777777777777778,\"#fb9f3a\"],[0.8888888888888888,\"#fdca26\"],[1.0,\"#f0f921\"]]}],\"surface\":[{\"type\":\"surface\",\"colorbar\":{\"outlinewidth\":0,\"ticks\":\"\"},\"colorscale\":[[0.0,\"#0d0887\"],[0.1111111111111111,\"#46039f\"],[0.2222222222222222,\"#7201a8\"],[0.3333333333333333,\"#9c179e\"],[0.4444444444444444,\"#bd3786\"],[0.5555555555555556,\"#d8576b\"],[0.6666666666666666,\"#ed7953\"],[0.7777777777777778,\"#fb9f3a\"],[0.8888888888888888,\"#fdca26\"],[1.0,\"#f0f921\"]]}],\"mesh3d\":[{\"type\":\"mesh3d\",\"colorbar\":{\"outlinewidth\":0,\"ticks\":\"\"}}],\"scatter\":[{\"fillpattern\":{\"fillmode\":\"overlay\",\"size\":10,\"solidity\":0.2},\"type\":\"scatter\"}],\"parcoords\":[{\"type\":\"parcoords\",\"line\":{\"colorbar\":{\"outlinewidth\":0,\"ticks\":\"\"}}}],\"scatterpolargl\":[{\"type\":\"scatterpolargl\",\"marker\":{\"colorbar\":{\"outlinewidth\":0,\"ticks\":\"\"}}}],\"bar\":[{\"error_x\":{\"color\":\"#2a3f5f\"},\"error_y\":{\"color\":\"#2a3f5f\"},\"marker\":{\"line\":{\"color\":\"#E5ECF6\",\"width\":0.5},\"pattern\":{\"fillmode\":\"overlay\",\"size\":10,\"solidity\":0.2}},\"type\":\"bar\"}],\"scattergeo\":[{\"type\":\"scattergeo\",\"marker\":{\"colorbar\":{\"outlinewidth\":0,\"ticks\":\"\"}}}],\"scatterpolar\":[{\"type\":\"scatterpolar\",\"marker\":{\"colorbar\":{\"outlinewidth\":0,\"ticks\":\"\"}}}],\"histogram\":[{\"marker\":{\"pattern\":{\"fillmode\":\"overlay\",\"size\":10,\"solidity\":0.2}},\"type\":\"histogram\"}],\"scattergl\":[{\"type\":\"scattergl\",\"marker\":{\"colorbar\":{\"outlinewidth\":0,\"ticks\":\"\"}}}],\"scatter3d\":[{\"type\":\"scatter3d\",\"line\":{\"colorbar\":{\"outlinewidth\":0,\"ticks\":\"\"}},\"marker\":{\"colorbar\":{\"outlinewidth\":0,\"ticks\":\"\"}}}],\"scattermapbox\":[{\"type\":\"scattermapbox\",\"marker\":{\"colorbar\":{\"outlinewidth\":0,\"ticks\":\"\"}}}],\"scatterternary\":[{\"type\":\"scatterternary\",\"marker\":{\"colorbar\":{\"outlinewidth\":0,\"ticks\":\"\"}}}],\"scattercarpet\":[{\"type\":\"scattercarpet\",\"marker\":{\"colorbar\":{\"outlinewidth\":0,\"ticks\":\"\"}}}],\"carpet\":[{\"aaxis\":{\"endlinecolor\":\"#2a3f5f\",\"gridcolor\":\"white\",\"linecolor\":\"white\",\"minorgridcolor\":\"white\",\"startlinecolor\":\"#2a3f5f\"},\"baxis\":{\"endlinecolor\":\"#2a3f5f\",\"gridcolor\":\"white\",\"linecolor\":\"white\",\"minorgridcolor\":\"white\",\"startlinecolor\":\"#2a3f5f\"},\"type\":\"carpet\"}],\"table\":[{\"cells\":{\"fill\":{\"color\":\"#EBF0F8\"},\"line\":{\"color\":\"white\"}},\"header\":{\"fill\":{\"color\":\"#C8D4E3\"},\"line\":{\"color\":\"white\"}},\"type\":\"table\"}],\"barpolar\":[{\"marker\":{\"line\":{\"color\":\"#E5ECF6\",\"width\":0.5},\"pattern\":{\"fillmode\":\"overlay\",\"size\":10,\"solidity\":0.2}},\"type\":\"barpolar\"}],\"pie\":[{\"automargin\":true,\"type\":\"pie\"}]},\"layout\":{\"autotypenumbers\":\"strict\",\"colorway\":[\"#636efa\",\"#EF553B\",\"#00cc96\",\"#ab63fa\",\"#FFA15A\",\"#19d3f3\",\"#FF6692\",\"#B6E880\",\"#FF97FF\",\"#FECB52\"],\"font\":{\"color\":\"#2a3f5f\"},\"hovermode\":\"closest\",\"hoverlabel\":{\"align\":\"left\"},\"paper_bgcolor\":\"white\",\"plot_bgcolor\":\"#E5ECF6\",\"polar\":{\"bgcolor\":\"#E5ECF6\",\"angularaxis\":{\"gridcolor\":\"white\",\"linecolor\":\"white\",\"ticks\":\"\"},\"radialaxis\":{\"gridcolor\":\"white\",\"linecolor\":\"white\",\"ticks\":\"\"}},\"ternary\":{\"bgcolor\":\"#E5ECF6\",\"aaxis\":{\"gridcolor\":\"white\",\"linecolor\":\"white\",\"ticks\":\"\"},\"baxis\":{\"gridcolor\":\"white\",\"linecolor\":\"white\",\"ticks\":\"\"},\"caxis\":{\"gridcolor\":\"white\",\"linecolor\":\"white\",\"ticks\":\"\"}},\"coloraxis\":{\"colorbar\":{\"outlinewidth\":0,\"ticks\":\"\"}},\"colorscale\":{\"sequential\":[[0.0,\"#0d0887\"],[0.1111111111111111,\"#46039f\"],[0.2222222222222222,\"#7201a8\"],[0.3333333333333333,\"#9c179e\"],[0.4444444444444444,\"#bd3786\"],[0.5555555555555556,\"#d8576b\"],[0.6666666666666666,\"#ed7953\"],[0.7777777777777778,\"#fb9f3a\"],[0.8888888888888888,\"#fdca26\"],[1.0,\"#f0f921\"]],\"sequentialminus\":[[0.0,\"#0d0887\"],[0.1111111111111111,\"#46039f\"],[0.2222222222222222,\"#7201a8\"],[0.3333333333333333,\"#9c179e\"],[0.4444444444444444,\"#bd3786\"],[0.5555555555555556,\"#d8576b\"],[0.6666666666666666,\"#ed7953\"],[0.7777777777777778,\"#fb9f3a\"],[0.8888888888888888,\"#fdca26\"],[1.0,\"#f0f921\"]],\"diverging\":[[0,\"#8e0152\"],[0.1,\"#c51b7d\"],[0.2,\"#de77ae\"],[0.3,\"#f1b6da\"],[0.4,\"#fde0ef\"],[0.5,\"#f7f7f7\"],[0.6,\"#e6f5d0\"],[0.7,\"#b8e186\"],[0.8,\"#7fbc41\"],[0.9,\"#4d9221\"],[1,\"#276419\"]]},\"xaxis\":{\"gridcolor\":\"white\",\"linecolor\":\"white\",\"ticks\":\"\",\"title\":{\"standoff\":15},\"zerolinecolor\":\"white\",\"automargin\":true,\"zerolinewidth\":2},\"yaxis\":{\"gridcolor\":\"white\",\"linecolor\":\"white\",\"ticks\":\"\",\"title\":{\"standoff\":15},\"zerolinecolor\":\"white\",\"automargin\":true,\"zerolinewidth\":2},\"scene\":{\"xaxis\":{\"backgroundcolor\":\"#E5ECF6\",\"gridcolor\":\"white\",\"linecolor\":\"white\",\"showbackground\":true,\"ticks\":\"\",\"zerolinecolor\":\"white\",\"gridwidth\":2},\"yaxis\":{\"backgroundcolor\":\"#E5ECF6\",\"gridcolor\":\"white\",\"linecolor\":\"white\",\"showbackground\":true,\"ticks\":\"\",\"zerolinecolor\":\"white\",\"gridwidth\":2},\"zaxis\":{\"backgroundcolor\":\"#E5ECF6\",\"gridcolor\":\"white\",\"linecolor\":\"white\",\"showbackground\":true,\"ticks\":\"\",\"zerolinecolor\":\"white\",\"gridwidth\":2}},\"shapedefaults\":{\"line\":{\"color\":\"#2a3f5f\"}},\"annotationdefaults\":{\"arrowcolor\":\"#2a3f5f\",\"arrowhead\":0,\"arrowwidth\":1},\"geo\":{\"bgcolor\":\"white\",\"landcolor\":\"#E5ECF6\",\"subunitcolor\":\"white\",\"showland\":true,\"showlakes\":true,\"lakecolor\":\"white\"},\"title\":{\"x\":0.05},\"mapbox\":{\"style\":\"light\"}}},\"xaxis\":{\"anchor\":\"y\",\"domain\":[0.0,1.0],\"title\":{\"text\":\"index\"}},\"yaxis\":{\"anchor\":\"x\",\"domain\":[0.0,1.0],\"title\":{\"text\":\"value\"}},\"legend\":{\"title\":{\"text\":\"variable\"},\"tracegroupgap\":0},\"margin\":{\"t\":60}},                        {\"responsive\": true}                    ).then(function(){\n",
              "                            \n",
              "var gd = document.getElementById('a8808e64-a30a-45d5-a268-28f0081c796c');\n",
              "var x = new MutationObserver(function (mutations, observer) {{\n",
              "        var display = window.getComputedStyle(gd).display;\n",
              "        if (!display || display === 'none') {{\n",
              "            console.log([gd, 'removed!']);\n",
              "            Plotly.purge(gd);\n",
              "            observer.disconnect();\n",
              "        }}\n",
              "}});\n",
              "\n",
              "// Listen for the removal of the full notebook cells\n",
              "var notebookContainer = gd.closest('#notebook-container');\n",
              "if (notebookContainer) {{\n",
              "    x.observe(notebookContainer, {childList: true});\n",
              "}}\n",
              "\n",
              "// Listen for the clearing of the current output cell\n",
              "var outputEl = gd.closest('.output');\n",
              "if (outputEl) {{\n",
              "    x.observe(outputEl, {childList: true});\n",
              "}}\n",
              "\n",
              "                        })                };                            </script>        </div>\n",
              "</body>\n",
              "</html>"
            ]
          },
          "metadata": {}
        }
      ]
    },
    {
      "cell_type": "code",
      "source": [
        "from pyspark.ml.clustering import KMeans, BisectingKMeans\n",
        "from pyspark.ml.feature import VectorAssembler\n",
        "\n",
        "df = df.withColumn(\"Alcohol\", col(\"Alcohol\").cast(\"double\"))\n",
        "df = df.withColumn(\"Color_Intensity\", col(\"Color_Intensity\").cast(\"double\"))\n",
        "if \"features\" in df.columns:\n",
        "    df = df.drop(\"features\")\n",
        "assembler = VectorAssembler(inputCols=[\"Alcohol\", \"Color_Intensity\"], outputCol=\"features\")\n",
        "df = assembler.transform(df)\n",
        "\n",
        "# K-means clustering\n",
        "kmeans = KMeans(k=3, seed=1)\n",
        "model = kmeans.fit(df)\n",
        "predictions = model.transform(df)\n",
        "\n",
        "# Bisecting K-means clustering\n",
        "bkm = BisectingKMeans(k=3, seed=1)\n",
        "model = bkm.fit(df)\n",
        "predictions = model.transform(df)\n",
        "\n",
        "pandas_df = predictions.select(\"*\").toPandas()\n",
        "\n",
        "# Plot the clusters\n",
        "plt.scatter(pandas_df[\"Alcohol\"], pandas_df[\"Color_Intensity\"], c=pandas_df[\"prediction\"])\n",
        "plt.xlabel(\"Alcohol\")\n",
        "plt.ylabel(\"Color_Intensity\")\n",
        "plt.show()"
      ],
      "metadata": {
        "colab": {
          "base_uri": "https://localhost:8080/",
          "height": 449
        },
        "id": "cPPV7MF7wKk9",
        "outputId": "671137d2-14b3-4384-e073-f24ffec1e2aa"
      },
      "execution_count": 83,
      "outputs": [
        {
          "output_type": "display_data",
          "data": {
            "text/plain": [
              "<Figure size 640x480 with 1 Axes>"
            ],
            "image/png": "[encoded data removed]"
          },
          "metadata": {}
        }
      ]
    }
  ]
}